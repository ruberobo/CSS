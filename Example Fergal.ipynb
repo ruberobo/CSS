{
 "cells": [
  {
   "cell_type": "markdown",
   "id": "b83e07f1-3490-4c6d-860e-40395ee5100d",
   "metadata": {},
   "source": [
    "## Importing the libs"
   ]
  },
  {
   "cell_type": "code",
   "execution_count": 1,
   "id": "61d4cad2-f114-4483-b954-b5d2401510c4",
   "metadata": {
    "ExecuteTime": {
     "end_time": "2021-06-18T09:29:29.111585Z",
     "start_time": "2021-06-18T09:29:20.798711Z"
    },
    "execution": {
     "iopub.execute_input": "2021-12-02T17:33:36.669066Z",
     "iopub.status.busy": "2021-12-02T17:33:36.668629Z",
     "iopub.status.idle": "2021-12-02T17:33:46.218827Z",
     "shell.execute_reply": "2021-12-02T17:33:46.218103Z",
     "shell.execute_reply.started": "2021-12-02T17:33:36.668954Z"
    },
    "tags": []
   },
   "outputs": [
    {
     "name": "stdout",
     "output_type": "stream",
     "text": [
      "\u001b[33mWARNING: You are using pip version 21.0.1; however, version 21.3.1 is available.\n",
      "You should consider upgrading via the '/usr/local/bin/python -m pip install --upgrade pip' command.\u001b[0m\n"
     ]
    }
   ],
   "source": [
    "import pandas as pd\n",
    "import numpy as np\n",
    "import seaborn as sns\n",
    "import matplotlib.pyplot as plt\n",
    "import datetime\n",
    "import json, requests\n",
    "!pip install -q pygsheets\n",
    "import pygsheets\n",
    "import os\n",
    "import time\n",
    "import csv\n",
    "from ds.utilities.io import ds_trino as ds_presto\n",
    "\n",
    "from shapely import wkt\n",
    "\n",
    "from IPython.core.display import HTML\n",
    "\n",
    "from google.cloud import storage\n",
    "\n",
    "\n"
   ]
  },
  {
   "cell_type": "markdown",
   "id": "1d4c6651-58b6-4d90-919d-aafb5544b670",
   "metadata": {},
   "source": [
    "# Paths"
   ]
  },
  {
   "cell_type": "code",
   "execution_count": 2,
   "id": "1c8bed16-75fe-407f-84e8-a2c167f53787",
   "metadata": {
    "execution": {
     "iopub.execute_input": "2021-12-02T17:33:46.220023Z",
     "iopub.status.busy": "2021-12-02T17:33:46.219859Z",
     "iopub.status.idle": "2021-12-02T17:33:46.223997Z",
     "shell.execute_reply": "2021-12-02T17:33:46.222887Z",
     "shell.execute_reply.started": "2021-12-02T17:33:46.220004Z"
    }
   },
   "outputs": [],
   "source": [
    "path_cred = '/home/guilherme.augusto/Credencials/client_secret.json'"
   ]
  },
  {
   "cell_type": "code",
   "execution_count": 3,
   "id": "115c6ba2-c782-4148-90d4-da53f7e12d54",
   "metadata": {
    "execution": {
     "iopub.execute_input": "2021-12-02T17:33:46.225633Z",
     "iopub.status.busy": "2021-12-02T17:33:46.225434Z",
     "iopub.status.idle": "2021-12-02T17:33:46.250970Z",
     "shell.execute_reply": "2021-12-02T17:33:46.250061Z",
     "shell.execute_reply.started": "2021-12-02T17:33:46.225615Z"
    },
    "tags": []
   },
   "outputs": [],
   "source": [
    "path_result = '/home/guilherme.augusto/Examples/'"
   ]
  },
  {
   "cell_type": "markdown",
   "id": "f8f20a8a-547d-4b9e-937f-d3fef08eb06c",
   "metadata": {},
   "source": [
    "# Example code for SUPERSET\n",
    "\n",
    "\n",
    "First you set you SQL code in a string, then you execute the code to make the db select"
   ]
  },
  {
   "cell_type": "code",
   "execution_count": 4,
   "id": "1d83a782-e6d8-42a1-b380-569182ae01af",
   "metadata": {
    "execution": {
     "iopub.execute_input": "2021-12-02T17:33:46.252108Z",
     "iopub.status.busy": "2021-12-02T17:33:46.251944Z",
     "iopub.status.idle": "2021-12-02T17:33:46.273071Z",
     "shell.execute_reply": "2021-12-02T17:33:46.272369Z",
     "shell.execute_reply.started": "2021-12-02T17:33:46.252090Z"
    },
    "tags": []
   },
   "outputs": [],
   "source": [
    "query = \"\"\"\n",
    "SELECT DISTINCT\n",
    "o.facility_name,\n",
    "--o.facility_id\n",
    "o.facility_latitude as latitude ,\n",
    "o.facility_longitude as longitude\n",
    "FROM hudi_ingest.analytics_views.customer_orders o\n",
    "WHERE day_partition >= '2020-12-31'\n",
    "and o.facility_licensee_type = 'CSS'\n",
    "and o.facility_country_code in ('BR')\n",
    "ORDER BY 1 ASC \n",
    "\"\"\"\n"
   ]
  },
  {
   "cell_type": "code",
   "execution_count": 5,
   "id": "1d4acbd6-7799-4ead-8d2d-84ab33b936fc",
   "metadata": {
    "execution": {
     "iopub.execute_input": "2021-12-02T17:33:46.274130Z",
     "iopub.status.busy": "2021-12-02T17:33:46.273957Z",
     "iopub.status.idle": "2021-12-02T17:33:46.296611Z",
     "shell.execute_reply": "2021-12-02T17:33:46.295864Z",
     "shell.execute_reply.started": "2021-12-02T17:33:46.274109Z"
    },
    "tags": []
   },
   "outputs": [],
   "source": [
    "pd.set_option('display.max_columns', None)\n",
    "pd.set_option('display.max_rows', None)"
   ]
  },
  {
   "cell_type": "code",
   "execution_count": 6,
   "id": "a472e7d2-5558-4123-b2ad-ba78b7430fef",
   "metadata": {
    "ExecuteTime": {
     "end_time": "2021-06-18T09:30:44.431171Z",
     "start_time": "2021-06-18T09:29:49.915169Z"
    },
    "execution": {
     "iopub.execute_input": "2021-12-02T17:33:46.297502Z",
     "iopub.status.busy": "2021-12-02T17:33:46.297355Z",
     "iopub.status.idle": "2021-12-02T17:34:05.520143Z",
     "shell.execute_reply": "2021-12-02T17:34:05.519347Z",
     "shell.execute_reply.started": "2021-12-02T17:33:46.297485Z"
    },
    "tags": []
   },
   "outputs": [
    {
     "data": {
      "text/html": [
       "<div>\n",
       "<style scoped>\n",
       "    .dataframe tbody tr th:only-of-type {\n",
       "        vertical-align: middle;\n",
       "    }\n",
       "\n",
       "    .dataframe tbody tr th {\n",
       "        vertical-align: top;\n",
       "    }\n",
       "\n",
       "    .dataframe thead th {\n",
       "        text-align: right;\n",
       "    }\n",
       "</style>\n",
       "<table border=\"1\" class=\"dataframe\">\n",
       "  <thead>\n",
       "    <tr style=\"text-align: right;\">\n",
       "      <th></th>\n",
       "      <th>facility_name</th>\n",
       "      <th>latitude</th>\n",
       "      <th>longitude</th>\n",
       "    </tr>\n",
       "  </thead>\n",
       "  <tbody>\n",
       "    <tr>\n",
       "      <th>0</th>\n",
       "      <td>BR - Sao Paulo - Acre</td>\n",
       "      <td>-23.55986213684082</td>\n",
       "      <td>-46.58323669433594</td>\n",
       "    </tr>\n",
       "    <tr>\n",
       "      <th>1</th>\n",
       "      <td>BR - Sao Paulo - Borba</td>\n",
       "      <td>-23.65675163269043</td>\n",
       "      <td>-46.70024871826172</td>\n",
       "    </tr>\n",
       "    <tr>\n",
       "      <th>2</th>\n",
       "      <td>BR - Sao Paulo - Clélia</td>\n",
       "      <td>-23.524967193603516</td>\n",
       "      <td>-46.700138092041016</td>\n",
       "    </tr>\n",
       "    <tr>\n",
       "      <th>3</th>\n",
       "      <td>BR - Sao Paulo - Dino</td>\n",
       "      <td>-23.52906036376953</td>\n",
       "      <td>-46.6451530456543</td>\n",
       "    </tr>\n",
       "    <tr>\n",
       "      <th>4</th>\n",
       "      <td>BR - Sao Paulo - Getulio Vargas</td>\n",
       "      <td>-23.694746017456055</td>\n",
       "      <td>-46.54399871826172</td>\n",
       "    </tr>\n",
       "  </tbody>\n",
       "</table>\n",
       "</div>"
      ],
      "text/plain": [
       "                     facility_name             latitude            longitude\n",
       "0            BR - Sao Paulo - Acre   -23.55986213684082   -46.58323669433594\n",
       "1           BR - Sao Paulo - Borba   -23.65675163269043   -46.70024871826172\n",
       "2          BR - Sao Paulo - Clélia  -23.524967193603516  -46.700138092041016\n",
       "3            BR - Sao Paulo - Dino   -23.52906036376953    -46.6451530456543\n",
       "4  BR - Sao Paulo - Getulio Vargas  -23.694746017456055   -46.54399871826172"
      ]
     },
     "execution_count": 6,
     "metadata": {},
     "output_type": "execute_result"
    }
   ],
   "source": [
    "df = ds_presto.fetch_data(sql_str=query, use_cache=False)\n",
    "df.head()"
   ]
  },
  {
   "cell_type": "markdown",
   "id": "230a004e-79ac-4b9c-b902-391f2fd074c7",
   "metadata": {
    "execution": {
     "iopub.execute_input": "2021-10-12T01:37:35.331302Z",
     "iopub.status.busy": "2021-10-12T01:37:35.330955Z",
     "iopub.status.idle": "2021-10-12T01:37:35.348519Z",
     "shell.execute_reply": "2021-10-12T01:37:35.346729Z",
     "shell.execute_reply.started": "2021-10-12T01:37:35.331212Z"
    },
    "tags": []
   },
   "source": [
    "# READ AND WRITE FROM SHEETS\n",
    "\n",
    "First you have to autenticate, then you can use this example"
   ]
  },
  {
   "cell_type": "markdown",
   "id": "d28cbb9e-884c-4e49-92e4-22fd720dd3e0",
   "metadata": {},
   "source": [
    "## GoogleSheets authentication"
   ]
  },
  {
   "cell_type": "code",
   "execution_count": 7,
   "id": "407588cc-c95b-40a7-95e3-51bd85b5f341",
   "metadata": {
    "ExecuteTime": {
     "end_time": "2021-06-18T09:31:00.172397Z",
     "start_time": "2021-06-18T09:31:00.061064Z"
    },
    "execution": {
     "iopub.execute_input": "2021-12-02T17:34:05.521963Z",
     "iopub.status.busy": "2021-12-02T17:34:05.521734Z",
     "iopub.status.idle": "2021-12-02T17:34:05.538333Z",
     "shell.execute_reply": "2021-12-02T17:34:05.537472Z",
     "shell.execute_reply.started": "2021-12-02T17:34:05.521933Z"
    },
    "tags": []
   },
   "outputs": [],
   "source": [
    "\n",
    "gc = pygsheets.authorize(service_file= path_cred)"
   ]
  },
  {
   "cell_type": "markdown",
   "id": "36b0725e-0efd-45b2-a2f2-a7fe8bcca708",
   "metadata": {},
   "source": [
    "# Write\n",
    "\n",
    "to write is almosts the same, just follow the code bellow\n",
    "remember to open by the key, set the correct sheet  and where the paste will start\n"
   ]
  },
  {
   "cell_type": "code",
   "execution_count": 8,
   "id": "602affad-defa-4c71-915e-1eb6499d4174",
   "metadata": {
    "execution": {
     "iopub.execute_input": "2021-12-02T17:34:05.539279Z",
     "iopub.status.busy": "2021-12-02T17:34:05.539124Z",
     "iopub.status.idle": "2021-12-02T17:34:06.763492Z",
     "shell.execute_reply": "2021-12-02T17:34:06.762542Z",
     "shell.execute_reply.started": "2021-12-02T17:34:05.539261Z"
    },
    "tags": []
   },
   "outputs": [],
   "source": [
    "# open the spreedsheet \n",
    "aux3 = gc.open_by_key('1bO0-ltYcctN2fqUV70yuyADV3vvTL-Kw_ihoIpharHA')\n",
    "\n",
    "# Select in what worksheet will paste\n",
    "auxs3 = aux3.worksheet('title','example 1')\n",
    "# Clear worksheet\n",
    "auxs3.clear(start='A1')\n",
    "# select where and paste\n",
    "auxs3.set_dataframe(df,start=\"A1\",copy_head=True,empty_value='')"
   ]
  },
  {
   "cell_type": "markdown",
   "id": "6d1e29ca-b948-4371-9134-1feed78e30c8",
   "metadata": {},
   "source": [
    "## READ\n",
    "\n",
    "To Read follow this example, first you have to get the key of the spreadsheet and share the sheet with the service account email"
   ]
  },
  {
   "cell_type": "code",
   "execution_count": 9,
   "id": "c71cd752-b0ae-4cc0-8a5a-9e8bbc71edb1",
   "metadata": {
    "execution": {
     "iopub.execute_input": "2021-12-02T17:34:06.765379Z",
     "iopub.status.busy": "2021-12-02T17:34:06.765223Z",
     "iopub.status.idle": "2021-12-02T17:34:07.323130Z",
     "shell.execute_reply": "2021-12-02T17:34:07.322530Z",
     "shell.execute_reply.started": "2021-12-02T17:34:06.765361Z"
    },
    "tags": []
   },
   "outputs": [],
   "source": [
    "exdf = gc.open_by_key('1bO0-ltYcctN2fqUV70yuyADV3vvTL-Kw_ihoIpharHA')\n",
    "exdf2 = exdf.worksheet('title','example 1')\n",
    "dataframe = exdf2.get_as_df(has_header=True,start=\"A1\", end=None,empty_value='')"
   ]
  },
  {
   "cell_type": "code",
   "execution_count": 10,
   "id": "50efc147-4e2e-4492-825b-fbf611d04baf",
   "metadata": {
    "execution": {
     "iopub.execute_input": "2021-12-02T17:34:07.325005Z",
     "iopub.status.busy": "2021-12-02T17:34:07.324762Z",
     "iopub.status.idle": "2021-12-02T17:34:07.334390Z",
     "shell.execute_reply": "2021-12-02T17:34:07.333513Z",
     "shell.execute_reply.started": "2021-12-02T17:34:07.324983Z"
    },
    "tags": []
   },
   "outputs": [
    {
     "data": {
      "text/html": [
       "<div>\n",
       "<style scoped>\n",
       "    .dataframe tbody tr th:only-of-type {\n",
       "        vertical-align: middle;\n",
       "    }\n",
       "\n",
       "    .dataframe tbody tr th {\n",
       "        vertical-align: top;\n",
       "    }\n",
       "\n",
       "    .dataframe thead th {\n",
       "        text-align: right;\n",
       "    }\n",
       "</style>\n",
       "<table border=\"1\" class=\"dataframe\">\n",
       "  <thead>\n",
       "    <tr style=\"text-align: right;\">\n",
       "      <th></th>\n",
       "      <th>facility_name</th>\n",
       "      <th>latitude</th>\n",
       "      <th>longitude</th>\n",
       "    </tr>\n",
       "  </thead>\n",
       "  <tbody>\n",
       "    <tr>\n",
       "      <th>0</th>\n",
       "      <td>BR - Sao Paulo - Acre</td>\n",
       "      <td>-23.559862</td>\n",
       "      <td>-46.583237</td>\n",
       "    </tr>\n",
       "    <tr>\n",
       "      <th>1</th>\n",
       "      <td>BR - Sao Paulo - Borba</td>\n",
       "      <td>-23.656752</td>\n",
       "      <td>-46.700249</td>\n",
       "    </tr>\n",
       "    <tr>\n",
       "      <th>2</th>\n",
       "      <td>BR - Sao Paulo - Clélia</td>\n",
       "      <td>-23.524967</td>\n",
       "      <td>-46.700138</td>\n",
       "    </tr>\n",
       "    <tr>\n",
       "      <th>3</th>\n",
       "      <td>BR - Sao Paulo - Dino</td>\n",
       "      <td>-23.529060</td>\n",
       "      <td>-46.645153</td>\n",
       "    </tr>\n",
       "    <tr>\n",
       "      <th>4</th>\n",
       "      <td>BR - Sao Paulo - Getulio Vargas</td>\n",
       "      <td>-23.694746</td>\n",
       "      <td>-46.543999</td>\n",
       "    </tr>\n",
       "  </tbody>\n",
       "</table>\n",
       "</div>"
      ],
      "text/plain": [
       "                     facility_name   latitude  longitude\n",
       "0            BR - Sao Paulo - Acre -23.559862 -46.583237\n",
       "1           BR - Sao Paulo - Borba -23.656752 -46.700249\n",
       "2          BR - Sao Paulo - Clélia -23.524967 -46.700138\n",
       "3            BR - Sao Paulo - Dino -23.529060 -46.645153\n",
       "4  BR - Sao Paulo - Getulio Vargas -23.694746 -46.543999"
      ]
     },
     "execution_count": 10,
     "metadata": {},
     "output_type": "execute_result"
    }
   ],
   "source": [
    "dataframe.head()"
   ]
  },
  {
   "cell_type": "markdown",
   "id": "93a8b231-28a8-44b5-9e4b-58fdee678e90",
   "metadata": {},
   "source": [
    "# SEND FOR GOOGLE CLOUD"
   ]
  },
  {
   "cell_type": "markdown",
   "id": "8530b8f0-33f3-4b3b-8f91-23c48d3cc90c",
   "metadata": {},
   "source": [
    "## saving in a csv"
   ]
  },
  {
   "cell_type": "code",
   "execution_count": 11,
   "id": "506e91a5-46b6-43b8-8e09-4666232a5414",
   "metadata": {
    "execution": {
     "iopub.execute_input": "2021-12-02T17:34:07.335519Z",
     "iopub.status.busy": "2021-12-02T17:34:07.335356Z",
     "iopub.status.idle": "2021-12-02T17:34:07.372004Z",
     "shell.execute_reply": "2021-12-02T17:34:07.371327Z",
     "shell.execute_reply.started": "2021-12-02T17:34:07.335502Z"
    }
   },
   "outputs": [],
   "source": [
    "df_csv = df.to_csv(f'{path_result}df.csv')"
   ]
  },
  {
   "cell_type": "markdown",
   "id": "238695cd-5d93-4533-9f95-eb11bd9da556",
   "metadata": {},
   "source": [
    "## Send for google cloud"
   ]
  },
  {
   "cell_type": "code",
   "execution_count": 12,
   "id": "1c38b08b-a0fa-4e75-a788-2898aee02d22",
   "metadata": {
    "execution": {
     "iopub.execute_input": "2021-12-02T17:34:07.372997Z",
     "iopub.status.busy": "2021-12-02T17:34:07.372830Z",
     "iopub.status.idle": "2021-12-02T17:34:07.392597Z",
     "shell.execute_reply": "2021-12-02T17:34:07.391816Z",
     "shell.execute_reply.started": "2021-12-02T17:34:07.372979Z"
    }
   },
   "outputs": [],
   "source": [
    "os.environ['GOOGLE_APPLICATION_CREDENTIALS']=path_cred\n",
    "gcs_s = storage.Client()\n",
    "BUCKET ='css-brazil'\n",
    "mypath = f'{path_result}df.csv'\n",
    "bucket_folder = 'example_fergal/'\n",
    "save_location= bucket_folder + 'df.csv'\n",
    "\n"
   ]
  },
  {
   "cell_type": "markdown",
   "id": "8737e6e6-3e29-4a73-ba87-9d1cc00b3d2b",
   "metadata": {},
   "source": [
    "### function to send "
   ]
  },
  {
   "cell_type": "code",
   "execution_count": 13,
   "id": "c58021c0-2c76-483f-9386-12f10da794d2",
   "metadata": {
    "execution": {
     "iopub.execute_input": "2021-12-02T17:34:07.393577Z",
     "iopub.status.busy": "2021-12-02T17:34:07.393397Z",
     "iopub.status.idle": "2021-12-02T17:34:07.665385Z",
     "shell.execute_reply": "2021-12-02T17:34:07.664816Z",
     "shell.execute_reply.started": "2021-12-02T17:34:07.393537Z"
    }
   },
   "outputs": [],
   "source": [
    "gcs_s.get_bucket(BUCKET).blob(save_location).upload_from_filename(mypath,content_type='text/csv')"
   ]
  },
  {
   "cell_type": "markdown",
   "id": "277ed2e6-493f-4f8d-9443-f09c49bd167c",
   "metadata": {},
   "source": [
    "# READ FILES IN GOOGLE CLOUD "
   ]
  },
  {
   "cell_type": "code",
   "execution_count": 14,
   "id": "6cd3d889-bef4-4c09-aa99-161e34d2c9fe",
   "metadata": {
    "execution": {
     "iopub.execute_input": "2021-12-02T17:34:07.666315Z",
     "iopub.status.busy": "2021-12-02T17:34:07.666161Z",
     "iopub.status.idle": "2021-12-02T17:34:07.845561Z",
     "shell.execute_reply": "2021-12-02T17:34:07.844783Z",
     "shell.execute_reply.started": "2021-12-02T17:34:07.666297Z"
    }
   },
   "outputs": [],
   "source": [
    "df_gc = pd.read_csv('gs://css-brazil/example_fergal/df.csv',\n",
    "                 storage_options={\"token\": '/home/guilherme.augusto/Credencials/client_secret.json'},index_col=0)\n",
    "\n",
    "\n"
   ]
  },
  {
   "cell_type": "code",
   "execution_count": 15,
   "id": "b25cf94a-e036-4161-800c-93d7f955161c",
   "metadata": {
    "execution": {
     "iopub.execute_input": "2021-12-02T17:34:07.846482Z",
     "iopub.status.busy": "2021-12-02T17:34:07.846328Z",
     "iopub.status.idle": "2021-12-02T17:34:07.854483Z",
     "shell.execute_reply": "2021-12-02T17:34:07.853757Z",
     "shell.execute_reply.started": "2021-12-02T17:34:07.846464Z"
    }
   },
   "outputs": [
    {
     "data": {
      "text/html": [
       "<div>\n",
       "<style scoped>\n",
       "    .dataframe tbody tr th:only-of-type {\n",
       "        vertical-align: middle;\n",
       "    }\n",
       "\n",
       "    .dataframe tbody tr th {\n",
       "        vertical-align: top;\n",
       "    }\n",
       "\n",
       "    .dataframe thead th {\n",
       "        text-align: right;\n",
       "    }\n",
       "</style>\n",
       "<table border=\"1\" class=\"dataframe\">\n",
       "  <thead>\n",
       "    <tr style=\"text-align: right;\">\n",
       "      <th></th>\n",
       "      <th>facility_name</th>\n",
       "      <th>latitude</th>\n",
       "      <th>longitude</th>\n",
       "    </tr>\n",
       "  </thead>\n",
       "  <tbody>\n",
       "    <tr>\n",
       "      <th>0</th>\n",
       "      <td>BR - Sao Paulo - Acre</td>\n",
       "      <td>-23.559862</td>\n",
       "      <td>-46.583237</td>\n",
       "    </tr>\n",
       "    <tr>\n",
       "      <th>1</th>\n",
       "      <td>BR - Sao Paulo - Borba</td>\n",
       "      <td>-23.656752</td>\n",
       "      <td>-46.700249</td>\n",
       "    </tr>\n",
       "    <tr>\n",
       "      <th>2</th>\n",
       "      <td>BR - Sao Paulo - Clélia</td>\n",
       "      <td>-23.524967</td>\n",
       "      <td>-46.700138</td>\n",
       "    </tr>\n",
       "    <tr>\n",
       "      <th>3</th>\n",
       "      <td>BR - Sao Paulo - Dino</td>\n",
       "      <td>-23.529060</td>\n",
       "      <td>-46.645153</td>\n",
       "    </tr>\n",
       "    <tr>\n",
       "      <th>4</th>\n",
       "      <td>BR - Sao Paulo - Getulio Vargas</td>\n",
       "      <td>-23.694746</td>\n",
       "      <td>-46.543999</td>\n",
       "    </tr>\n",
       "  </tbody>\n",
       "</table>\n",
       "</div>"
      ],
      "text/plain": [
       "                     facility_name   latitude  longitude\n",
       "0            BR - Sao Paulo - Acre -23.559862 -46.583237\n",
       "1           BR - Sao Paulo - Borba -23.656752 -46.700249\n",
       "2          BR - Sao Paulo - Clélia -23.524967 -46.700138\n",
       "3            BR - Sao Paulo - Dino -23.529060 -46.645153\n",
       "4  BR - Sao Paulo - Getulio Vargas -23.694746 -46.543999"
      ]
     },
     "execution_count": 15,
     "metadata": {},
     "output_type": "execute_result"
    }
   ],
   "source": [
    "df_gc.head()"
   ]
  },
  {
   "cell_type": "markdown",
   "id": "d9ec4d0d-7d9c-41cc-8a7c-6ed5a6c40ee4",
   "metadata": {},
   "source": [
    "# SEND FOR BIG QUERY "
   ]
  },
  {
   "cell_type": "code",
   "execution_count": 16,
   "id": "2773a674-ec52-438c-998a-74670d30c8e8",
   "metadata": {
    "execution": {
     "iopub.execute_input": "2021-12-02T17:34:07.855488Z",
     "iopub.status.busy": "2021-12-02T17:34:07.855340Z",
     "iopub.status.idle": "2021-12-02T17:34:08.143968Z",
     "shell.execute_reply": "2021-12-02T17:34:08.143294Z",
     "shell.execute_reply.started": "2021-12-02T17:34:07.855471Z"
    }
   },
   "outputs": [],
   "source": [
    "import pandas as pd\n",
    "from google.oauth2 import service_account\n",
    "from google.cloud import bigquery"
   ]
  },
  {
   "cell_type": "code",
   "execution_count": 17,
   "id": "f5116285-358f-4abd-b78f-19f601176888",
   "metadata": {
    "execution": {
     "iopub.execute_input": "2021-12-02T17:34:08.145111Z",
     "iopub.status.busy": "2021-12-02T17:34:08.144940Z",
     "iopub.status.idle": "2021-12-02T17:34:08.167143Z",
     "shell.execute_reply": "2021-12-02T17:34:08.166490Z",
     "shell.execute_reply.started": "2021-12-02T17:34:08.145093Z"
    }
   },
   "outputs": [],
   "source": [
    "os.environ[\"GOOGLE_APPLICATION_CREDENTIALS\"]='/home/guilherme.augusto/Credencials/client_secret.json'\n",
    "key_path = '/home/guilherme.augusto/Credencials/client_secret.json'\n",
    "credentials = service_account.Credentials.from_service_account_file(key_path, scopes = [\"https://www.googleapis.com/auth/cloud-platform\"])\n",
    "client = bigquery.Client()"
   ]
  },
  {
   "cell_type": "code",
   "execution_count": 18,
   "id": "93464eca-662a-4f76-94ba-12002b874fda",
   "metadata": {
    "execution": {
     "iopub.execute_input": "2021-12-02T17:34:08.168149Z",
     "iopub.status.busy": "2021-12-02T17:34:08.167994Z",
     "iopub.status.idle": "2021-12-02T17:34:08.228047Z",
     "shell.execute_reply": "2021-12-02T17:34:08.227388Z",
     "shell.execute_reply.started": "2021-12-02T17:34:08.168132Z"
    }
   },
   "outputs": [],
   "source": [
    "# import the dataframe \n",
    "\n",
    "df_gc = pd.read_csv('gs://css-brazil/example_fergal/df.csv',\n",
    "                 storage_options={\"token\": '/home/guilherme.augusto/Credencials/client_secret.json'},index_col=0)\n",
    "\n",
    "\n"
   ]
  },
  {
   "cell_type": "code",
   "execution_count": 19,
   "id": "afa8f86c-9f27-4f5e-ac23-a88b6ef14b32",
   "metadata": {
    "execution": {
     "iopub.execute_input": "2021-12-02T17:34:08.229090Z",
     "iopub.status.busy": "2021-12-02T17:34:08.228934Z",
     "iopub.status.idle": "2021-12-02T17:34:13.786170Z",
     "shell.execute_reply": "2021-12-02T17:34:13.785227Z",
     "shell.execute_reply.started": "2021-12-02T17:34:08.229071Z"
    }
   },
   "outputs": [
    {
     "name": "stderr",
     "output_type": "stream",
     "text": [
      "1it [00:04,  4.66s/it]\n"
     ]
    }
   ],
   "source": [
    "df_gc.to_gbq(credentials = credentials,\n",
    "              destination_table='css_brazil.fergal_ex',\n",
    "              progress_bar = True,\n",
    "              if_exists='replace'\n",
    "              #if_exists='append'\n",
    "                        )"
   ]
  },
  {
   "cell_type": "code",
   "execution_count": null,
   "id": "b01d6faf-dce8-410a-a538-9982901d042c",
   "metadata": {},
   "outputs": [],
   "source": []
  },
  {
   "cell_type": "code",
   "execution_count": null,
   "id": "5bdf50b1-fa0a-4835-a9e9-1071cfb814db",
   "metadata": {},
   "outputs": [],
   "source": []
  },
  {
   "cell_type": "code",
   "execution_count": null,
   "id": "e9a5acf7-d8fe-4e59-8ba3-0f48ac7143da",
   "metadata": {},
   "outputs": [],
   "source": []
  }
 ],
 "metadata": {
  "kernelspec": {
   "display_name": "Python 3 (ipykernel)",
   "language": "python",
   "name": "python3"
  },
  "language_info": {
   "codemirror_mode": {
    "name": "ipython",
    "version": 3
   },
   "file_extension": ".py",
   "mimetype": "text/x-python",
   "name": "python",
   "nbconvert_exporter": "python",
   "pygments_lexer": "ipython3",
   "version": "3.9.7"
  }
 },
 "nbformat": 4,
 "nbformat_minor": 5
}
