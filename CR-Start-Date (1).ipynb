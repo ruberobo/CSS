{
 "cells": [
  {
   "cell_type": "code",
   "execution_count": 1,
   "id": "3b5f0d00-66fe-440f-94f0-77fbf82e309b",
   "metadata": {
    "execution": {
     "iopub.execute_input": "2023-08-23T23:13:23.371625Z",
     "iopub.status.busy": "2023-08-23T23:13:23.371457Z",
     "iopub.status.idle": "2023-08-23T23:13:27.014559Z",
     "shell.execute_reply": "2023-08-23T23:13:27.013709Z",
     "shell.execute_reply.started": "2023-08-23T23:13:23.371605Z"
    },
    "papermill": {
     "duration": 5.843985,
     "end_time": "2023-08-09T22:56:05.312681",
     "exception": false,
     "start_time": "2023-08-09T22:55:59.468696",
     "status": "completed"
    },
    "tags": []
   },
   "outputs": [],
   "source": [
    "import numpy as np\n",
    "import pandas as pd\n",
    "import pygsheets\n",
    "from ds.utilities.io import ds_trino as ds_presto\n",
    "import json\n",
    "import pandas_gbq\n",
    "from google.oauth2 import service_account\n",
    "import requests"
   ]
  },
  {
   "cell_type": "code",
   "execution_count": 2,
   "id": "3f323f53-c297-4062-85be-fbaaf1bfbe74",
   "metadata": {
    "execution": {
     "iopub.execute_input": "2023-08-23T23:13:27.016327Z",
     "iopub.status.busy": "2023-08-23T23:13:27.015606Z",
     "iopub.status.idle": "2023-08-23T23:14:23.500332Z",
     "shell.execute_reply": "2023-08-23T23:14:23.499740Z",
     "shell.execute_reply.started": "2023-08-23T23:13:27.016298Z"
    },
    "papermill": {
     "duration": 41.532472,
     "end_time": "2023-08-09T22:56:46.865227",
     "exception": false,
     "start_time": "2023-08-09T22:56:05.332755",
     "status": "completed"
    },
    "tags": []
   },
   "outputs": [
    {
     "data": {
      "text/html": [
       "<div>\n",
       "<style scoped>\n",
       "    .dataframe tbody tr th:only-of-type {\n",
       "        vertical-align: middle;\n",
       "    }\n",
       "\n",
       "    .dataframe tbody tr th {\n",
       "        vertical-align: top;\n",
       "    }\n",
       "\n",
       "    .dataframe thead th {\n",
       "        text-align: right;\n",
       "    }\n",
       "</style>\n",
       "<table border=\"1\" class=\"dataframe\">\n",
       "  <thead>\n",
       "    <tr style=\"text-align: right;\">\n",
       "      <th></th>\n",
       "      <th>rows</th>\n",
       "    </tr>\n",
       "  </thead>\n",
       "  <tbody>\n",
       "    <tr>\n",
       "      <th>0</th>\n",
       "      <td>5161</td>\n",
       "    </tr>\n",
       "  </tbody>\n",
       "</table>\n",
       "</div>"
      ],
      "text/plain": [
       "   rows\n",
       "0  5161"
      ]
     },
     "execution_count": 2,
     "metadata": {},
     "output_type": "execute_result"
    }
   ],
   "source": [
    "sql = \"\"\"\n",
    "\n",
    "DROP TABLE IF EXISTS hudi_ingest.scratch.cr_starts\n",
    "\n",
    "\"\"\"\n",
    "\n",
    "try:\n",
    "    df = ds_presto.fetch_data(sql_str=sql, use_cache = False)\n",
    "except TypeError:\n",
    "    pass\n",
    "\n",
    "sql = \"\"\"\n",
    "\n",
    "\n",
    "\n",
    "CREATE TABLE hudi_ingest.scratch.cr_starts AS\n",
    "\n",
    "WITH\n",
    "\n",
    "  ss_orgs_raw AS (\n",
    "    SELECT\n",
    "      CAST(transaction.org_uuid AS VARCHAR) AS brand_organization_id\n",
    "      ,CAST(inventory.facility_uuid AS VARCHAR) AS facility_id\n",
    "      ,MIN(DATE(transaction.created_at)) FILTER (WHERE transaction.type = 'TRANSACTION_RECEIVED') AS org_fac_first_rec\n",
    "      ,MIN(DATE(transaction.created_at)) FILTER (WHERE transaction.type = 'TRANSACTION_SOLD') AS org_fac_first_sale\n",
    "    FROM\n",
    "      hudi_ingest.inventory_restaurant_platform_cockroach_dbreplica.inventory_transaction_line_item AS line_item\n",
    "    JOIN\n",
    "      hudi_ingest.inventory_restaurant_platform_cockroach_dbreplica.inventory AS inventory\n",
    "      ON line_item.inventory_uuid = inventory.uuid\n",
    "    JOIN\n",
    "      hudi_ingest.inventory_restaurant_platform_cockroach_dbreplica.inventory_transaction AS transaction\n",
    "      ON line_item.inventory_transaction_uuid = transaction.uuid\n",
    "    WHERE \n",
    "      line_item.day_partition IS NOT NULL\n",
    "      AND inventory.day_partition IS NOT NULL\n",
    "      AND transaction.day_partition IS NOT NULL\n",
    "      AND line_item.applied_stock_on_hand_delta IS NOT NULL\n",
    "      AND (transaction.type = 'TRANSACTION_RECEIVED' OR transaction.type = 'TRANSACTION_SOLD')\n",
    "    GROUP BY\n",
    "      1,2\n",
    "  )\n",
    "  \n",
    "  ,ss_stores AS (\n",
    "    SELECT\n",
    "      brand_organization_id AS prep_organization_id\n",
    "      ,facility_id\n",
    "      ,IF(org_fac_first_sale IS NOT NULL AND org_fac_first_rec IS NOT NULL, GREATEST(org_fac_first_sale, org_fac_first_rec), org_fac_first_sale) AS org_fac_first_sale\n",
    "      ,COALESCE(org_fac_first_rec, org_fac_first_sale) AS org_fac_first_rec\n",
    "      , store_id\n",
    "    FROM\n",
    "      hudi_ingest.data_science.ds_stores_view\n",
    "    JOIN\n",
    "      ss_orgs_raw\n",
    "      USING(brand_organization_id, facility_id)\n",
    "  )\n",
    "  \n",
    " ,ss_starts AS (\n",
    "    SELECT\n",
    "      prep_organization_id\n",
    "      ,facility_id\n",
    "      ,DATE(MIN(created_at)) AS org_fac_start_date\n",
    "    FROM\n",
    "      hudi_ingest.store_availability.store_state_changes_view\n",
    "    JOIN\n",
    "      ss_stores\n",
    "       ON  hudi_ingest.store_availability.store_state_changes_view.store_id = CAST(ss_stores.store_id AS VARCHAR)\n",
    "       \n",
    "    WHERE --Makes sure the store opened organically + automatically – without human intervention – indicating that we've finished testing, and now it's up and running\n",
    "      NOT store_open_before\n",
    "      AND store_open_now\n",
    "      AND store_should_be_open_now\n",
    "      AND store_closure_reason_now IS NULL\n",
    "      AND store_closure_reason_before = 'OFF_HOUR'\n",
    "      AND created_at > org_fac_first_rec\n",
    "      AND day_partition <= cast(current_date AS VARCHAR)\n",
    "    GROUP BY\n",
    "      1,2\n",
    "  )\n",
    "\n",
    "SELECT\n",
    "  *\n",
    "FROM (\n",
    "  SELECT\n",
    "    prep_organization_id\n",
    "    ,facility_id\n",
    "    ,IF(org_fac_first_sale IS NOT NULL AND org_fac_start_date IS NOT NULL, LEAST(org_fac_first_sale, org_fac_start_date), COALESCE(org_fac_start_date, org_fac_first_sale)) AS org_fac_live_date\n",
    "  FROM\n",
    "    ss_stores\n",
    "  LEFT JOIN\n",
    "    ss_starts\n",
    "    USING(prep_organization_id, facility_id)\n",
    "  GROUP BY\n",
    "    1,2,3\n",
    ")\n",
    "WHERE\n",
    "  org_fac_live_date IS NOT NULL\n",
    "\n",
    "  \"\"\"\n",
    "\n",
    "df = ds_presto.fetch_data(sql_str=sql, use_cache = False)\n",
    "df.head()\n",
    "\n"
   ]
  },
  {
   "cell_type": "code",
   "execution_count": null,
   "id": "ca4d253a-b523-4288-a616-fa0fddd13b62",
   "metadata": {
    "papermill": {
     "duration": 0.012841,
     "end_time": "2023-08-09T22:56:46.892678",
     "exception": false,
     "start_time": "2023-08-09T22:56:46.879837",
     "status": "completed"
    },
    "tags": []
   },
   "outputs": [],
   "source": []
  }
 ],
 "metadata": {
  "kernelspec": {
   "display_name": "Python 3 (ipykernel)",
   "language": "python",
   "name": "python3"
  },
  "language_info": {
   "codemirror_mode": {
    "name": "ipython",
    "version": 3
   },
   "file_extension": ".py",
   "mimetype": "text/x-python",
   "name": "python",
   "nbconvert_exporter": "python",
   "pygments_lexer": "ipython3",
   "version": "3.8.13"
  },
  "papermill": {
   "default_parameters": {},
   "duration": 52.678616,
   "end_time": "2023-08-09T22:56:47.528497",
   "environment_variables": {},
   "exception": null,
   "input_path": "/home/pablo.galvan/OB QA/CR-Start-Date.ipynb",
   "output_path": "/home/pablo.galvan/OB QA/CR-Start-Date.ipynb",
   "parameters": {},
   "start_time": "2023-08-09T22:55:54.849881",
   "version": "2.4.0"
  }
 },
 "nbformat": 4,
 "nbformat_minor": 5
}
